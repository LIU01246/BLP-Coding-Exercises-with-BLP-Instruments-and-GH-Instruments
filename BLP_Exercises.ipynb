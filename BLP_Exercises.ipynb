{
 "cells": [
  {
   "cell_type": "markdown",
   "metadata": {},
   "source": [
    "# ECON 8601 - IO\n",
    "## Homework 3 - BLP Exercises\n",
    "### Xiang Liu\n",
    "#### Department of Economics, University of Minnesota\n",
    "\n",
    "I gained a lot of help from Chonghao Hao for these exercises."
   ]
  },
  {
   "cell_type": "code",
   "execution_count": 1,
   "metadata": {},
   "outputs": [],
   "source": [
    "using Random, Distributions\n",
    "using DataStructures\n",
    "using Base.Threads: @threads\n",
    "using CSV\n",
    "using DataFrames\n",
    "using Optim\n",
    "using ForwardDiff\n",
    "using LinearAlgebra\n",
    "using GLM\n",
    "using Statistics\n",
    "using StatsModels"
   ]
  },
  {
   "cell_type": "code",
   "execution_count": 2,
   "metadata": {},
   "outputs": [],
   "source": [
    "df = CSV.read(\"cardata.txt\", DataFrame; delim='\\t');"
   ]
  },
  {
   "cell_type": "markdown",
   "metadata": {},
   "source": [
    "## Exercise 1 - the Logit Model\n",
    "\n",
    "Assume utility is given by \n",
    "$$u_{ij} = \\alpha (y_i - p_j) + x_j\\beta + \\epsilon_{ij}, \\forall j = 0, 1, \\cdots, J_t$$\n",
    "with $\\epsilon_{ij}$ type 1 extreme value, $y_i$ income, $x_j, p_j$ observed characteristics, and parameters $\\beta, \\alpha$.\n",
    "\n",
    "Derive the appropriate likelihood function for the aggregated data by starting with the micro-level specification and regrouping. \n"
   ]
  },
  {
   "cell_type": "markdown",
   "metadata": {},
   "source": [
    "The utility $\\delta_j$ for a product $j$ based on its characteristics $X$ and price $P$ is given by:\n",
    "\n",
    "$$\\delta_j(X, P, \\beta, \\alpha) = \\beta \\cdot X - \\alpha P$$\n",
    "\n",
    "The market share $s_j$ for a product $j$, derived from the utility, is calculated as:\n",
    "\n",
    "$$s_j = \\frac{e^{\\delta_j}}{1 + \\sum_{k} e^{\\delta_k}}$$\n",
    "\n",
    "Given observed market shares $\\hat{s}_j$, the objective function for likelihood maximization is:\n",
    "\n",
    "$$\\mathcal{L}(\\beta, \\alpha) = \\sum_{j} \\log(s_j) \\cdot \\hat{s}_j$$\n",
    "\n",
    "where $\\mathcal{L}(\\beta, \\alpha)$ is to be maximized with respect to $\\beta$ and $\\alpha$.\n",
    "\n",
    "Now, in order to do the following exercises, we convert these calculations into functions: "
   ]
  },
  {
   "cell_type": "markdown",
   "metadata": {},
   "source": [
    "## Exercise 2 - MLE to the Logit Model\n",
    "\n",
    "Using the automobile data, estimate the logit demand specification using maximum likelihood and assuming prices are exogenous. What is the implied own-price elaticity of the 1990 Honda Accord (HDACCO)? What is the implied cross-elasticity of the Honda Accord with respect to the 1990 Ford Escort (FDESCO)? Pick two addtional cars and report the same numbers. "
   ]
  },
  {
   "cell_type": "code",
   "execution_count": 3,
   "metadata": {},
   "outputs": [
    {
     "data": {
      "text/plain": [
       "elasticity (generic function with 1 method)"
      ]
     },
     "metadata": {},
     "output_type": "display_data"
    }
   ],
   "source": [
    "function δ_j(X, P, β, α)\n",
    "    # X: Vector of characteristics\n",
    "    # P: Price\n",
    "    # β: Coefficients for characteristics\n",
    "    # α: Coefficient for price\n",
    "    return dot(β, X) - α * P\n",
    "end\n",
    "\n",
    "function s_vec(df)\n",
    "    # no income y\n",
    "    # δ_vec: Vector of δ_j, j is product    \n",
    "    # return vector [s_1,...,s_J]' market share for products\n",
    "    markets = unique(df[!,:year])\n",
    "    results = OrderedDict()\n",
    "    @threads for j in markets\n",
    "        # Perform calculations\n",
    "        δ = df[df.year .== j, :δ_vec]\n",
    "        results[j] = exp.(δ) / (1 + sum(exp.(δ)))\n",
    "    end\n",
    "    return vcat(values(results)...)\n",
    "end\n",
    "\n",
    "\n",
    "function obj_func(s_j, s_hat_j)\n",
    "    # s_j is estimated market share from s_vec\n",
    "    # s_hat_j is observed market share for product j\n",
    "    return log(s_j)*s_hat_j\n",
    "end\n",
    "\n",
    "# Function to compute utility for each vehicle\n",
    "function compute_δ_vec(data, β, α,characteristics;constant=false)\n",
    "    δ_vec = []\n",
    "    for i in 1:nrow(data)\n",
    "        # Extract characteristics and price for each vehicle\n",
    "        X = [data[i, c] for c in characteristics]\n",
    "        if constant\n",
    "            X = [1.0; X]\n",
    "        end\n",
    "        P = data[i, :price]\n",
    "\n",
    "        # Calculate utility and append to δ_vec\n",
    "        push!(δ_vec, δ_j(X, P, β, α))\n",
    "    end\n",
    "    return δ_vec\n",
    "end\n",
    "\n",
    "# Function to maximize\n",
    "function total_log_likelihood(β, α, data, characteristics)\n",
    "    total_ll = 0.0\n",
    "    δ_vec = compute_δ_vec(data, β, α,characteristics)\n",
    "    data[!,:δ_vec] = δ_vec\n",
    "    s_vec_estimated = s_vec(data)\n",
    "    # sum over j\n",
    "    for i in 1:nrow(data)\n",
    "        total_ll += obj_func(s_vec_estimated[i], data[i, :market_share])\n",
    "    end\n",
    "    return total_ll\n",
    "end\n",
    "\n",
    "\n",
    "\n",
    "function elasticity(df, car1,car2, year, α_hat)\n",
    "    # Calculate s_j for the given vehicle and year\n",
    "    # need to calcualte estimated market share s first\n",
    "    s_j = df[(df.vehicle_name .== car1) .& (df.year .== year), :s][1] # estimated market share or observed\n",
    "    s_k = df[(df.vehicle_name .== car2) .& (df.year .== year), :s][1]\n",
    "    p_j = df[(df.vehicle_name .== car1) .& (df.year .== year), :price][1]\n",
    "    p_k = df[(df.vehicle_name .== car2) .& (df.year .== year), :price][1]\n",
    "    # Calculate own and cross price elasticities\n",
    "    elas_own = p_j/s_j *(-α_hat) * s_j * (1 - s_j)\n",
    "    elas_cros = p_k/s_j * α_hat * s_k * s_j\n",
    "    println(car1,\" Own elasticity: \", round(elas_own, digits=9))\n",
    "    println(car1,\" \",car2,\" Cross elasticity: \", round(elas_cros, digits=9))\n",
    "    return elas_own, elas_cros\n",
    "end\n"
   ]
  },
  {
   "cell_type": "code",
   "execution_count": 4,
   "metadata": {},
   "outputs": [
    {
     "name": "stdout",
     "output_type": "stream",
     "text": [
      "Optimized β: -0.044, 1.884, 0.18, 0.1834\n",
      "Optimized α: 0.1357\n"
     ]
    }
   ],
   "source": [
    "# Initial parameter guesses\n",
    "initial_β = [0.1,0.5, 0.3, 0.2]\n",
    "initial_α = 0.4\n",
    "characteristics = [:horsepower_weight, :length_width, :ac_standard, :miles_per_dollar]\n",
    "\n",
    "# Optimization\n",
    "result = optimize(βα -> -total_log_likelihood(βα[1:end-1], βα[end], df,characteristics), [initial_β..., initial_α])\n",
    "\n",
    "# Extract optimized parameters\n",
    "optimized_parameters = Optim.minimizer(result)\n",
    "println(\"Optimized β: \", join(round.(optimized_parameters[1:end-1], digits=4), \", \"))\n",
    "println(\"Optimized α: \", round(optimized_parameters[end], digits=4))\n"
   ]
  },
  {
   "cell_type": "code",
   "execution_count": 5,
   "metadata": {},
   "outputs": [
    {
     "name": "stdout",
     "output_type": "stream",
     "text": [
      "SE β: 11.1, 3.9348, 3.1169, 1.903\n",
      "SE α: 0.327\n"
     ]
    }
   ],
   "source": [
    "H = ForwardDiff.hessian(βα -> -total_log_likelihood(βα[1:end-1], βα[end], df,characteristics), optimized_parameters)\n",
    "se = sqrt.(diag(inv(H)))\n",
    "println(\"SE β: \", join(round.(se[1:end-1], digits=4), \", \"))\n",
    "println(\"SE α: \", round(se[end], digits=4))"
   ]
  },
  {
   "cell_type": "code",
   "execution_count": 6,
   "metadata": {},
   "outputs": [],
   "source": [
    "β_hat = optimized_parameters[1:end-1]\n",
    "α_hat = optimized_parameters[end]\n",
    "δ_vec = compute_δ_vec(df, β_hat, α_hat,characteristics)\n",
    "df[!,:δ_vec] = δ_vec\n",
    "s_vec_estimated = s_vec(df)\n",
    "df[!, :s] = s_vec_estimated;"
   ]
  },
  {
   "cell_type": "code",
   "execution_count": 7,
   "metadata": {},
   "outputs": [
    {
     "name": "stdout",
     "output_type": "stream",
     "text": [
      "HDACCO Own elasticity: -1.249041902\n",
      "HDACCO FDESCO Cross elasticity: 0.011376034\n",
      "CRDYNA Own elasticity: -1.333302909\n",
      "CRDYNA CRLANC Cross elasticity: 0.011559582\n",
      "CHSUMM Own elasticity: -1.0125512\n",
      "CHSUMM CHTC Cross elasticity: 0.003007771\n"
     ]
    }
   ],
   "source": [
    "elas_own, elas_cros = elasticity(df, \"HDACCO\",\"FDESCO\", 90, α_hat)\n",
    "elas_own, elas_cros = elasticity(df, \"CRDYNA\",\"CRLANC\", 89, α_hat)\n",
    "elas_own, elas_cros = elasticity(df, \"CHSUMM\",\"CHTC\", 89, α_hat);"
   ]
  },
  {
   "cell_type": "markdown",
   "metadata": {},
   "source": [
    "## Exercise 3 - Linear Regression of the Logit Model\n",
    "\n",
    "Estimate the logit demand specification using the linearized version of this model from BLP (i.e. regress $\\log (s_j - s_0)$ on characteristics). What is the implied own-prince elaticity of the 1990 Honda Accord (HDACCO)? What is the implied cross-elasticity of the Honda Accord with respect to the 1990 Ford Escort (FDESCO)? Pick two addtional cars and report the same numbers. "
   ]
  },
  {
   "cell_type": "code",
   "execution_count": 8,
   "metadata": {},
   "outputs": [
    {
     "data": {
      "text/plain": [
       "ols_reg (generic function with 1 method)"
      ]
     },
     "metadata": {},
     "output_type": "display_data"
    }
   ],
   "source": [
    "\n",
    "function ols_reg(Y,X)\n",
    "    β = (X'X) \\ (X'Y)\n",
    "    err = Y - X * β\n",
    "    # Estimate of error variance\n",
    "    σ²_hat = (err' * err)/(size(X,1)-size(X,2))\n",
    "\n",
    "    # Variance-Covariance matrix of β_hat\n",
    "    var_beta = σ²_hat * inv(X'X)\n",
    "\n",
    "    se_beta = sqrt.(diag(var_beta))\n",
    "\n",
    "    err = Y - X * β\n",
    "    Xϵ = X .* (err * ones(1, size(X, 2)))\n",
    "    var_beta = inv(X'*X)* Xϵ' * Xϵ * inv(X'*X)\n",
    "    se_beta = sqrt.(diag(var_beta))\n",
    "    return β, se_beta\n",
    "end"
   ]
  },
  {
   "cell_type": "code",
   "execution_count": 9,
   "metadata": {},
   "outputs": [],
   "source": [
    "# Calcualte s_0 for each year\n",
    "grouped_df = groupby(df, :year)\n",
    "market_share_sum = combine(grouped_df, :market_share => (x -> 1 - sum(x)) => :s_0)\n",
    "df = leftjoin(df, market_share_sum, on=:year);"
   ]
  },
  {
   "cell_type": "code",
   "execution_count": 10,
   "metadata": {},
   "outputs": [
    {
     "name": "stdout",
     "output_type": "stream",
     "text": [
      "β_hat: -10.0716, -0.1242, 2.3421, -0.0343, 0.265\n",
      "α_hat: 0.0886\n",
      "SE β: 0.2572, 0.2786, 0.1244, 0.0709, 0.0424\n",
      "SE α: 0.0043\n"
     ]
    }
   ],
   "source": [
    "X = hcat(ones(size(df, 1)), Matrix(df[!, [:horsepower_weight, :length_width, :ac_standard, :miles_per_dollar, :price]]))\n",
    "\n",
    "# Create the vector Y for the dependent variable\n",
    "Y = log.(df[!, :market_share]) - log.(df[!, :s_0])\n",
    "\n",
    "# Perform the OLS regression using the Normal Equation: β = (X'X)^(-1)X'Y\n",
    "β, se_beta = ols_reg(Y,X)\n",
    "β_hat = β[1:end-1]\n",
    "α_hat = -β[end]\n",
    "\n",
    "println(\"β_hat: \", join(round.(β_hat, digits=4), \", \"))\n",
    "println(\"α_hat: \", round(α_hat, digits=4))\n",
    "println(\"SE β: \", join(round.(se_beta[1:end-1], digits=4), \", \"))\n",
    "println(\"SE α: \", round(se_beta[end], digits=4))"
   ]
  },
  {
   "cell_type": "code",
   "execution_count": 11,
   "metadata": {},
   "outputs": [
    {
     "name": "stdout",
     "output_type": "stream",
     "text": [
      "HDACCO Own elasticity: -0.823079102\n",
      "HDACCO FDESCO Cross elasticity: 0.000451967\n",
      "CRDYNA Own elasticity: -0.878261183\n",
      "CRDYNA CRLANC Cross elasticity: 0.000526359\n",
      "CHSUMM Own elasticity: -0.667692045\n",
      "CHSUMM CHTC Cross elasticity: 0.000228044\n"
     ]
    }
   ],
   "source": [
    "δ_vec = compute_δ_vec(df, β_hat, α_hat, characteristics,constant= true)\n",
    "df[!,:δ_vec] = δ_vec\n",
    "s_vec_estimated = s_vec(df)\n",
    "df[!, :s] = s_vec_estimated\n",
    "\n",
    "elas_own, elas_cros = elasticity(df, \"HDACCO\",\"FDESCO\", 90, α_hat)\n",
    "elas_own, elas_cros = elasticity(df, \"CRDYNA\",\"CRLANC\", 89, α_hat)\n",
    "elas_own, elas_cros = elasticity(df, \"CHSUMM\",\"CHTC\", 89, α_hat);"
   ]
  },
  {
   "cell_type": "markdown",
   "metadata": {},
   "source": [
    "## Exercise 4.1 - BLP Instruments in Logit Model\n",
    "\n",
    "Write\n",
    "\n",
    "$$u_{ij} = \\alpha \\ln(y_i – p_j) + x_j \\beta + \\xi_j + \\epsilon_{ij}, \\forall j = 0, 1, \\cdots, J.$$\n",
    "\n",
    "Use the instruments used in BLP. You will nned the firmids and the year variables to calculate  these instruments (they are product-firm-year specific). Estimate the logit model using 2SLS and instrumenting for price. \n",
    "\n",
    "What is the implied own-prince elaticity of the 1990 Honda Accord (HDACCO)? What is the implied cross-elasticity of the Honda Accord with respect to the 1990 Ford Escort (FDESCO)? Pick two addtional cars and report the same numbers. \n",
    "\n"
   ]
  },
  {
   "cell_type": "code",
   "execution_count": 12,
   "metadata": {},
   "outputs": [
    {
     "data": {
      "text/plain": [
       "construct_instrument (generic function with 1 method)"
      ]
     },
     "metadata": {},
     "output_type": "display_data"
    }
   ],
   "source": [
    "function construct_instrument(data::DataFrame, characteristic::Symbol)\n",
    "    own_firm_sum = Symbol(\"own_firm_sum_\", characteristic)\n",
    "    rival_firm_sum = Symbol(\"rival_firm_sum_\", characteristic)\n",
    "    data[!, own_firm_sum] = zeros(nrow(data))\n",
    "    data[!, rival_firm_sum] = zeros(nrow(data))\n",
    "    for i in 1:nrow(data)\n",
    "        current_firm = data[i, :firmid]\n",
    "        current_time = data[i, :year]\n",
    "\n",
    "        # Filter data for the current firm and time period\n",
    "        own_firm_data = data[(data[!, :firmid] .== current_firm) .& (data[!, :year] .== current_time), :]\n",
    "        rival_firm_data = data[(data[!, :firmid] .!= current_firm) .& (data[!, :year] .== current_time), :]\n",
    "\n",
    "        # Sum of characteristic for own-firm products (excluding current product)\n",
    "        data[i, own_firm_sum] = sum(own_firm_data[!, characteristic]) - data[i, characteristic]\n",
    "\n",
    "        # Sum of characteristic for rival-firm products\n",
    "        data[i, rival_firm_sum] = sum(rival_firm_data[!, characteristic])\n",
    "    end\n",
    "end"
   ]
  },
  {
   "cell_type": "code",
   "execution_count": 13,
   "metadata": {},
   "outputs": [
    {
     "data": {
      "text/plain": [
       "IV2sls (generic function with 1 method)"
      ]
     },
     "metadata": {},
     "output_type": "display_data"
    }
   ],
   "source": [
    "function IV2sls(Y, X_endogenous,X_exogenous, Z)\n",
    "    # First Stage: Regress X on Z\n",
    "    B_hat = (Z'Z) \\ (Z'X_endogenous)  # Estimated coefficients for the instrumental variables\n",
    "    X_hat = Z * B_hat       # Predicted values of X\n",
    "\n",
    "    X_combined = hcat(X_exogenous,X_hat)\n",
    "    # Second Stage: Regress Y on X_hat\n",
    "    beta_2sls = (X_combined'X_combined) \\ (X_combined'Y)\n",
    "    \n",
    "    err = Y - X_combined * beta_2sls\n",
    "    Xϵ = X_combined .* (err * ones(1, size(X_combined, 2)))\n",
    "    var_beta = inv(X_combined'*X_combined)* Xϵ' * Xϵ * inv(X_combined'*X_combined)\n",
    "    se_beta = sqrt.(diag(var_beta))\n",
    "\n",
    "    return beta_2sls, se_beta\n",
    "end"
   ]
  },
  {
   "cell_type": "code",
   "execution_count": 14,
   "metadata": {},
   "outputs": [],
   "source": [
    "# Construct BLP IV\n",
    "characteristics = [:horsepower_weight, :length_width, :ac_standard, :miles_per_dollar]\n",
    "for char in characteristics\n",
    "    construct_instrument(df, char)\n",
    "end\n",
    "# Define the instrumental variables\n",
    "instruments = vcat(characteristics,\n",
    "                [Symbol(\"own_firm_sum_\", char) for char in characteristics],\n",
    "                [Symbol(\"rival_firm_sum_\", char) for char in characteristics] ) ;"
   ]
  },
  {
   "cell_type": "code",
   "execution_count": 15,
   "metadata": {},
   "outputs": [],
   "source": [
    "# Convert DataFrame columns to matrices\n",
    "Y = log.(df[!, :market_share]) - log.(df[!, :s_0])\n",
    "constant = ones(size(df, 1))\n",
    "X_endogenous = Matrix(df[:, [:price]])\n",
    "\n",
    "X_exogenous = Matrix(df[:, characteristics])\n",
    "X_exogenous = hcat(constant, X_exogenous)\n",
    "\n",
    "Z = Matrix(df[:, instruments])\n",
    "Z = hcat(constant, Z);"
   ]
  },
  {
   "cell_type": "code",
   "execution_count": 16,
   "metadata": {},
   "outputs": [
    {
     "name": "stdout",
     "output_type": "stream",
     "text": [
      "β_hat: -9.902, 1.345, 2.287, 0.532, 0.163\n",
      "α_hat: -0.14\n",
      "SE β: 0.257, 0.279, 0.124, 0.071, 0.042\n",
      "SE α: 0.004\n"
     ]
    }
   ],
   "source": [
    "result,se = IV2sls(Y, X_endogenous,X_exogenous, Z)\n",
    "\n",
    "β_hat = result[1:end-1]\n",
    "α_hat = result[end]\n",
    "\n",
    "println(\"β_hat: \", join(round.(β_hat, digits=3), \", \"))\n",
    "println(\"α_hat: \", round(α_hat, digits=3))\n",
    "println(\"SE β: \", join(round.(se_beta[1:end-1], digits=3), \", \"))\n",
    "println(\"SE α: \", round(se_beta[end], digits=3))"
   ]
  },
  {
   "cell_type": "code",
   "execution_count": 17,
   "metadata": {},
   "outputs": [
    {
     "name": "stdout",
     "output_type": "stream",
     "text": [
      "HDACCO Own elasticity: 1.29930615\n",
      "HDACCO FDESCO Cross elasticity: -9.3166e-5\n",
      "CRDYNA Own elasticity: 1.386705671\n",
      "CRDYNA CRLANC Cross elasticity: -4.1518e-5\n",
      "CHSUMM Own elasticity: 1.054232826\n",
      "CHSUMM CHTC Cross elasticity: -0.002871674\n"
     ]
    }
   ],
   "source": [
    "δ_vec = compute_δ_vec(df, β_hat, α_hat, characteristics,constant= true)\n",
    "df[!,:δ_vec] = δ_vec\n",
    "s_vec_estimated = s_vec(df)\n",
    "df[!, :s] = s_vec_estimated\n",
    "\n",
    "elas_own, elas_cros = elasticity(df, \"HDACCO\",\"FDESCO\", 90, α_hat)\n",
    "elas_own, elas_cros = elasticity(df, \"CRDYNA\",\"CRLANC\", 89, α_hat)\n",
    "elas_own, elas_cros = elasticity(df, \"CHSUMM\",\"CHTC\", 89, α_hat);"
   ]
  },
  {
   "cell_type": "markdown",
   "metadata": {},
   "source": [
    "## Exercise 4.2 - Gandhi-Houde (DH) Instrumnets in Logit Model"
   ]
  },
  {
   "cell_type": "code",
   "execution_count": 18,
   "metadata": {},
   "outputs": [
    {
     "data": {
      "text/plain": [
       "convert_IV_df (generic function with 1 method)"
      ]
     },
     "metadata": {},
     "output_type": "display_data"
    }
   ],
   "source": [
    "# Function to calculate GH IV, I only construct quadratic instruments without interaction terms\n",
    "function GH_IV(df, characteristics)\n",
    "    grouped_data = groupby(df, :year)\n",
    "    collected_groups = []\n",
    "    for (market, group) in pairs(grouped_data)\n",
    "        firm_intra_distances = Dict()\n",
    "        firm_inter_distances = Dict()\n",
    "    \n",
    "        for char in characteristics\n",
    "            n = size(group, 1)\n",
    "            intra_distance_matrix = zeros(n, n)\n",
    "            inter_distance_matrix = zeros(n, n)\n",
    "        \n",
    "            for i in 1:n\n",
    "                for j in 1:n\n",
    "                    if group.firmid[i] == group.firmid[j]  # Intrafirm distance\n",
    "                        intra_distance_matrix[i, j] = group[i, char] - group[j, char]\n",
    "                    elseif group.firmid[i] != group.firmid[j]  # Interfirm distance\n",
    "                        inter_distance_matrix[i, j] = group[i, char] - group[j, char]\n",
    "                    end\n",
    "                end\n",
    "            end\n",
    "        \n",
    "            firm_intra_distances[char] = intra_distance_matrix.^ 2\n",
    "            firm_inter_distances[char] = inter_distance_matrix.^ 2\n",
    "        end\n",
    "        group = convert_IV_df(firm_intra_distances,group,\"intra_IV_\")\n",
    "        group = convert_IV_df(firm_inter_distances,group,\"inter_IV_\")\n",
    "        push!(collected_groups, group)\n",
    "    end\n",
    "    \n",
    "    final_df = vcat(collected_groups...)\n",
    "\n",
    "    return final_df \n",
    "end\n",
    "\n",
    "function convert_IV_df(firm_intra_distances, group, prefix)\n",
    "    row_sums = [sum(firm_intra_distances[char], dims=2) for char in keys(firm_intra_distances)]\n",
    "    transposed_sums = hcat(row_sums...)\n",
    "    # Adding new columns to group\n",
    "    for (i, key) in enumerate(keys(firm_intra_distances))\n",
    "        column_name = Symbol(prefix * string(key))\n",
    "        group[!, column_name] = transposed_sums[:, i]\n",
    "    end\n",
    "    return group\n",
    "end"
   ]
  },
  {
   "cell_type": "code",
   "execution_count": 19,
   "metadata": {},
   "outputs": [],
   "source": [
    "# construct GH_IV\n",
    "df = GH_IV(df, characteristics)\n",
    "GH_instruments = vcat(characteristics,\n",
    "                [Symbol(\"intra_IV_\", char) for char in characteristics],\n",
    "                [Symbol(\"inter_IV_\", char) for char in characteristics] ) ;"
   ]
  },
  {
   "cell_type": "code",
   "execution_count": 20,
   "metadata": {},
   "outputs": [
    {
     "name": "stdout",
     "output_type": "stream",
     "text": [
      "β_hat: -9.908, 1.292, 2.289, 0.512, 0.167\n",
      "α_hat: 0.138\n",
      "SE β: 0.257, 0.279, 0.124, 0.071, 0.042\n",
      "SE α: 0.004\n",
      "HDACCO Own elasticity: -1.281617801\n",
      "HDACCO FDESCO Cross elasticity: 0.000699002\n",
      "CRDYNA Own elasticity: -1.367689576\n",
      "CRDYNA CRLANC Cross elasticity: 0.000703968\n",
      "CHSUMM Own elasticity: -1.039727024\n",
      "CHSUMM CHTC Cross elasticity: 0.000353852\n"
     ]
    }
   ],
   "source": [
    "\n",
    "Z = Matrix(df[:, GH_instruments])\n",
    "Z = hcat(constant, Z)\n",
    "\n",
    "result,se = IV2sls(Y, X_endogenous,X_exogenous, Z)\n",
    "\n",
    "β_hat = result[1:end-1]\n",
    "α_hat = -result[end]\n",
    "\n",
    "println(\"β_hat: \", join(round.(β_hat, digits=3), \", \"))\n",
    "println(\"α_hat: \", round(α_hat, digits=3))\n",
    "println(\"SE β: \", join(round.(se_beta[1:end-1], digits=3), \", \"))\n",
    "println(\"SE α: \", round(se_beta[end], digits=3))\n",
    "\n",
    "δ_vec = compute_δ_vec(df, β_hat, α_hat, characteristics,constant= true)\n",
    "df[!,:δ_vec] = δ_vec\n",
    "s_vec_estimated = s_vec(df)\n",
    "df[!, :s] = s_vec_estimated\n",
    "\n",
    "elas_own, elas_cros = elasticity(df, \"HDACCO\",\"FDESCO\", 90, α_hat)\n",
    "elas_own, elas_cros = elasticity(df, \"CRDYNA\",\"CRLANC\", 89, α_hat)\n",
    "elas_own, elas_cros = elasticity(df, \"CHSUMM\",\"CHTC\", 89, α_hat);"
   ]
  },
  {
   "cell_type": "markdown",
   "metadata": {},
   "source": [
    "## Exercise 5.1 - BLP Instruments in Logit Model with Random Coefficients\n",
    "\n",
    "Write\n",
    "\n",
    "$$u_{ij} = \\alpha (y_i – p_j) + x_j \\beta_i + \\xi_j + \\epsilon_{ij}, \\forall j = 0, 1, \\cdots, J.$$\n",
    "\n",
    "Now add random coefficients for each characteristic and estimate the means and variances of these nromally distributed random coefficients. Estimate the demand side of the model only (unlesss you are ambitious and want smaller standard errors - then add the supply side too).\n",
    "\n",
    "What is the implied own-prince elaticity of the 1990 Honda Accord (HDACCO)? What is the implied cross-elasticity of the Honda Accord with respect to the 1990 Ford Escort (FDESCO)? Pick two addtional cars and report the same numbers. \n",
    "\n",
    "This part is unfinished, see Julia version for random coefficients. "
   ]
  },
  {
   "cell_type": "code",
   "execution_count": 21,
   "metadata": {},
   "outputs": [
    {
     "data": {
      "text/plain": [
       "random_elasticity (generic function with 1 method)"
      ]
     },
     "metadata": {},
     "output_type": "display_data"
    }
   ],
   "source": [
    "function gen_random(characteristics = [:horsepower_weight, :length_width, :ac_standard, :miles_per_dollar ])\n",
    "    # Number of people\n",
    "    N = 100\n",
    "\n",
    "    # Create an empty DataFrame\n",
    "    people_df = DataFrame() \n",
    "    # Random number generator from normal distribution\n",
    "    rng = MersenneTwister()\n",
    "    normal_dist = Normal(0, 1)\n",
    "\n",
    "    # Generate and add data for each characteristic\n",
    "    for char in characteristics\n",
    "        people_df[!, char] = rand(rng, normal_dist, N)\n",
    "    end\n",
    "    return people_df\n",
    "end\n",
    "\n",
    "# char_matrix = Matrix(df[:, characteristics])\n",
    "\n",
    "#Function for estimated share for one market\n",
    "function eshare(char_matrix::Matrix, δ::Vector, rand_sample::Matrix, σ::Vector) \n",
    "    # δ is the vector of δ_i in market t\n",
    "    # σ scaling matrix for v\n",
    "    # rand_sample is the random coefficient of each coefficient for each person [v_i1,..,v_ik] k characteristics\n",
    "    R = size(rand_sample,1) # #. of simulated individuals\n",
    "    k = size(char_matrix,1) # #. of products\n",
    "    share = zeros(k)\n",
    "    \n",
    "    # s_jt = 1/R * sum_i{ exp(δ_jt + μ_ijt)/sum_j'{exp(δ_j't + μ_ij't)} }\n",
    "    for i in 1:R\n",
    "        # exp(δ_jt + μ_ijt) where μ_ijt = σ_1*v_i1*char_1 + ... + σ_k*v_ik*char_k\n",
    "        numerator = exp.(δ + char_matrix * (rand_sample[i, :] .* σ)) \n",
    "        denominator = 1 + sum(numerator)\n",
    "        prob = numerator./denominator\n",
    "        share += 1/R * prob\n",
    "    end\n",
    "    return share \n",
    "end\n",
    "\n",
    "#Function for estimating delta for one market\n",
    "function cdelta(char_matrix::Matrix, rand_sample::Matrix,share::Vector,σ::Vector; tol::Float64 = 1e-12)\n",
    "    k = size(char_matrix, 1)\n",
    "    δ_0 = ones(k)\n",
    "    δ_1 = ones(k)\n",
    "    error = 1\n",
    "\n",
    "    while error > tol\n",
    "        δ_0 = δ_1\n",
    "        estimate_share = eshare(char_matrix, δ_0, rand_sample,σ)\n",
    "        δ_1 = δ_0 + log.(share) - log.(estimate_share)\n",
    "        error = (δ_1 - δ_0)' * (δ_1 - δ_0)\n",
    "    end\n",
    "\n",
    "    return δ_1\n",
    "end\n",
    "\n",
    "#   Estimate delta for all the markets\n",
    "#   characteristics = [:horsepower_weight, :length_width, :ac_standard, :miles_per_dollar]\n",
    "function delta_full(df,rand_sample, characteristics, σ ; tol::Float64 = 1e-12)\n",
    "    markets = unique(df[:,:year])\n",
    "    results = OrderedDict()\n",
    "    err = OrderedDict()\n",
    "    @threads for j in markets\n",
    "        # Perform calculations\n",
    "        chars = Matrix(df[df.year .== j, characteristics])\n",
    "        share = df[df.year .== j, :market_share]\n",
    "        δ_new = cdelta(chars, rand_sample, share, σ; tol)\n",
    "        results[j] = δ_new\n",
    "        if any(isnan, δ_new)\n",
    "            err[j] = j\n",
    "        end\n",
    "    end\n",
    "    return vcat(values(results)...), err\n",
    "end\n",
    "\n",
    "# Objective function, get GMM error and β\n",
    "# rand_sample= Matrix(gen_random())\n",
    "# characteristics = [:horsepower_weight, :length_width, :ac_standard, :miles_per_dollar ]\n",
    "\n",
    "function obj(df,rand_sample,characteristics,IV_list,σ;delta_full_func=delta_full)\n",
    "    δ = delta_full_func(df,rand_sample,characteristics,σ)[1]\n",
    "    z1 = Matrix(df[: , IV_list])\n",
    "    chars = characteristics\n",
    "    if !(:price in characteristics) \n",
    "        chars = [characteristics..., :price]\n",
    "    end    \n",
    "    x = hcat(ones(size(df, 1)), Matrix(df[!, chars]))\n",
    "    z = [ones(size(df, 1)) z1] # IV matrix with constant term\n",
    "    w = inv(z' * z)\n",
    "    beta = (x'* z * w * z' * x)^-1  * (x'* z * w * z' * δ)\n",
    "    u = δ - x * beta\n",
    "    res = u' * z * w * z' * u\n",
    "    return (res, beta, u)\n",
    "end\n",
    "\n",
    "function random_elasticity(df, car1, car2, yr, rand_sample, σ, β, characteristics)\n",
    "    group = df[df.year .== yr,:]\n",
    "    car_j_ind = findfirst(group.vehicle_name.== car1) \n",
    "    car_k_ind = findfirst(group.vehicle_name.== car2)\n",
    "    p_j = group[car_j_ind, :price]\n",
    "    p_k = group[car_k_ind, :price]\n",
    "    s_j = group[car_j_ind, :market_share]\n",
    "    α = -β[end]\n",
    "\n",
    "    ns = size(rand_sample,1)\n",
    "    own = 0\n",
    "    cross = 0\n",
    "    s_j_hat= 0\n",
    "    chars = characteristics\n",
    "    if !(:price in characteristics) \n",
    "        chars = [characteristics..., :price]\n",
    "    end\n",
    "    char_matrix_j = Matrix(df[df.year .== yr, chars])\n",
    "    for i in 1:ns\n",
    "        if :price in characteristics # can also input two characteristics list for δ and μ\n",
    "            μ_ijt = char_matrix_j * (rand_sample[i, :] .* σ)\n",
    "        else\n",
    "            μ_ijt = char_matrix_j[:, 1:end-1] * (rand_sample[i, :] .* σ)\n",
    "        end\n",
    "     \n",
    "        δ_ijt = char_matrix_j * β[2:end] .+ β[1]\n",
    "        \n",
    "        num = exp.( δ_ijt + μ_ijt )\n",
    "        den = 1 + sum(num)\n",
    "        s_i = num./den\n",
    "\n",
    "        s_ij = s_i[car_j_ind]\n",
    "        s_ik = s_i[car_k_ind]\n",
    "\n",
    "        s_j_hat += 1/ns *s_i[car_j_ind]\n",
    "        \n",
    "        own += 1/ns * (-α) * s_ij * (1 - s_ij)\n",
    "        cross += 1/ns * α * s_ij * s_ik\n",
    "    end\n",
    "    elas_own = own * p_j / s_j_hat\n",
    "    elas_cros = cross * p_k / s_j_hat\n",
    "    println(car1,\" Own elasticity: \", round(elas_own, digits=9))\n",
    "    println(car1,\" \",car2,\" Cross elasticity: \", round(elas_cros, digits=9))\n",
    "    return elas_own, elas_cros\n",
    "end\n"
   ]
  },
  {
   "cell_type": "code",
   "execution_count": 22,
   "metadata": {},
   "outputs": [],
   "source": [
    "# In HW, there is no random coefficient for price\n",
    "characteristics = [:horsepower_weight, :length_width, :ac_standard, :miles_per_dollar]\n",
    "rand_sample= Matrix(gen_random(characteristics))\n",
    "for char in characteristics # avoid inlcuding price itself in IV list\n",
    "    construct_instrument(df, char)\n",
    "end\n",
    "IV_list = vcat(characteristics,\n",
    "                [Symbol(\"own_firm_sum_\", char) for char in characteristics],\n",
    "                [Symbol(\"rival_firm_sum_\", char) for char in characteristics] ) ;"
   ]
  },
  {
   "cell_type": "code",
   "execution_count": 23,
   "metadata": {},
   "outputs": [],
   "source": [
    "σ_0 = [1.0,1.0,1.0,1.0] # random coefficient initial guess\n",
    "result1 = optimize(sig -> obj(df,rand_sample,characteristics,IV_list,sig)[1], σ_0);"
   ]
  },
  {
   "cell_type": "code",
   "execution_count": 59,
   "metadata": {},
   "outputs": [
    {
     "ename": "TaskFailedException",
     "evalue": "TaskFailedException\n\n    nested task error: DimensionMismatch: arrays could not be broadcast to a common size; got a dimension with lengths 5 and 4\n    Stacktrace:\n      [1] _bcs1\n        @ ./broadcast.jl:516 [inlined]\n      [2] _bcs\n        @ ./broadcast.jl:510 [inlined]\n      [3] broadcast_shape\n        @ ./broadcast.jl:504 [inlined]\n      [4] combine_axes\n        @ ./broadcast.jl:499 [inlined]\n      [5] instantiate\n        @ ./broadcast.jl:281 [inlined]\n      [6] materialize\n        @ ./broadcast.jl:860 [inlined]\n      [7] eshare(char_matrix::Matrix{Float64}, δ::Vector{Float64}, rand_sample::Matrix{Float64}, σ::Vector{Float64})\n        @ Main ~/Desktop/IO-Petrin/BLP_Exercises.ipynb:32\n      [8] cdelta(char_matrix::Matrix{Float64}, rand_sample::Matrix{Float64}, share::Vector{Float64}, σ::Vector{Float64}; tol::Float64)\n        @ Main ~/Desktop/IO-Petrin/BLP_Exercises.ipynb:49\n      [9] macro expansion\n        @ ~/Desktop/IO-Petrin/BLP_Exercises.ipynb:67 [inlined]\n     [10] (::var\"#98#threadsfor_fun#34\"{var\"#98#threadsfor_fun#33#35\"{Float64, DataFrame, Matrix{Float64}, Vector{Symbol}, Vector{Float64}, OrderedDict{Any, Any}, OrderedDict{Any, Any}, Vector{Int64}}})(tid::Int64; onethread::Bool)\n        @ Main ./threadingconstructs.jl:84\n     [11] #98#threadsfor_fun\n        @ ./threadingconstructs.jl:51 [inlined]\n     [12] (::Base.Threads.var\"#1#2\"{var\"#98#threadsfor_fun#34\"{var\"#98#threadsfor_fun#33#35\"{Float64, DataFrame, Matrix{Float64}, Vector{Symbol}, Vector{Float64}, OrderedDict{Any, Any}, OrderedDict{Any, Any}, Vector{Int64}}}, Int64})()\n        @ Base.Threads ./threadingconstructs.jl:30",
     "output_type": "error",
     "traceback": [
      "TaskFailedException\n",
      "\n",
      "    nested task error: DimensionMismatch: arrays could not be broadcast to a common size; got a dimension with lengths 5 and 4\n",
      "    Stacktrace:\n",
      "      [1] _bcs1\n",
      "        @ ./broadcast.jl:516 [inlined]\n",
      "      [2] _bcs\n",
      "        @ ./broadcast.jl:510 [inlined]\n",
      "      [3] broadcast_shape\n",
      "        @ ./broadcast.jl:504 [inlined]\n",
      "      [4] combine_axes\n",
      "        @ ./broadcast.jl:499 [inlined]\n",
      "      [5] instantiate\n",
      "        @ ./broadcast.jl:281 [inlined]\n",
      "      [6] materialize\n",
      "        @ ./broadcast.jl:860 [inlined]\n",
      "      [7] eshare(char_matrix::Matrix{Float64}, δ::Vector{Float64}, rand_sample::Matrix{Float64}, σ::Vector{Float64})\n",
      "        @ Main ~/Desktop/IO-Petrin/BLP_Exercises.ipynb:32\n",
      "      [8] cdelta(char_matrix::Matrix{Float64}, rand_sample::Matrix{Float64}, share::Vector{Float64}, σ::Vector{Float64}; tol::Float64)\n",
      "        @ Main ~/Desktop/IO-Petrin/BLP_Exercises.ipynb:49\n",
      "      [9] macro expansion\n",
      "        @ ~/Desktop/IO-Petrin/BLP_Exercises.ipynb:67 [inlined]\n",
      "     [10] (::var\"#98#threadsfor_fun#34\"{var\"#98#threadsfor_fun#33#35\"{Float64, DataFrame, Matrix{Float64}, Vector{Symbol}, Vector{Float64}, OrderedDict{Any, Any}, OrderedDict{Any, Any}, Vector{Int64}}})(tid::Int64; onethread::Bool)\n",
      "        @ Main ./threadingconstructs.jl:84\n",
      "     [11] #98#threadsfor_fun\n",
      "        @ ./threadingconstructs.jl:51 [inlined]\n",
      "     [12] (::Base.Threads.var\"#1#2\"{var\"#98#threadsfor_fun#34\"{var\"#98#threadsfor_fun#33#35\"{Float64, DataFrame, Matrix{Float64}, Vector{Symbol}, Vector{Float64}, OrderedDict{Any, Any}, OrderedDict{Any, Any}, Vector{Int64}}}, Int64})()\n",
      "        @ Base.Threads ./threadingconstructs.jl:30\n",
      "\n",
      "Stacktrace:\n",
      " [1] wait\n",
      "   @ ./task.jl:345 [inlined]\n",
      " [2] threading_run(fun::var\"#98#threadsfor_fun#34\"{var\"#98#threadsfor_fun#33#35\"{Float64, DataFrame, Matrix{Float64}, Vector{Symbol}, Vector{Float64}, OrderedDict{Any, Any}, OrderedDict{Any, Any}, Vector{Int64}}}, static::Bool)\n",
      "   @ Base.Threads ./threadingconstructs.jl:38\n",
      " [3] macro expansion\n",
      "   @ ./threadingconstructs.jl:89 [inlined]\n",
      " [4] delta_full(df::DataFrame, rand_sample::Matrix{Float64}, characteristics::Vector{Symbol}, σ::Vector{Float64}; tol::Float64)\n",
      "   @ Main ~/Desktop/IO-Petrin/BLP_Exercises.ipynb:63\n",
      " [5] delta_full\n",
      "   @ ~/Desktop/IO-Petrin/BLP_Exercises.ipynb:59 [inlined]\n",
      " [6] obj(df::DataFrame, rand_sample::Matrix{Float64}, characteristics::Vector{Symbol}, IV_list::Vector{Symbol}, σ::Vector{Float64}; delta_full_func::typeof(delta_full))\n",
      "   @ Main ~/Desktop/IO-Petrin/BLP_Exercises.ipynb:81\n",
      " [7] obj(df::DataFrame, rand_sample::Matrix{Float64}, characteristics::Vector{Symbol}, IV_list::Vector{Symbol}, σ::Vector{Float64})\n",
      "   @ Main ~/Desktop/IO-Petrin/BLP_Exercises.ipynb:80\n",
      " [8] top-level scope\n",
      "   @ ~/Desktop/IO-Petrin/BLP_Exercises.ipynb:3"
     ]
    }
   ],
   "source": [
    "# β \n",
    "optimized_parameters = Optim.minimizer(result1)\n",
    "_,β,gmm_s = obj(df,rand_sample,characteristics,IV_list,optimized_parameters)\n",
    "println(\"β: \", join(round.(β, digits=3), \", \"))\n",
    "σ = optimized_parameters = Optim.minimizer(result1)\n",
    "println(\"σ: \", join(round.(σ, digits=3), \", \"))\n",
    "θ1_se, θ2_se = varcov(df,IV_list, σ, gmm_s)\n",
    "println(\"SE β: \", join(round.(θ1_se, digits=4), \", \"))\n",
    "println(\"SE σ: \", join(round.(θ2_se, digits=4), \", \"))"
   ]
  },
  {
   "cell_type": "code",
   "execution_count": 25,
   "metadata": {},
   "outputs": [
    {
     "name": "stdout",
     "output_type": "stream",
     "text": [
      "HDACCO Own elasticity: -1.489458595\n",
      "HDACCO FDESCO Cross elasticity: 0.005413356\n",
      "CRDYNA Own elasticity: -1.593253645\n",
      "CRDYNA CRLANC Cross elasticity: 0.00336622\n",
      "CHSUMM Own elasticity: -1.210611003\n",
      "CHSUMM CHTC Cross elasticity: 0.002967242\n"
     ]
    }
   ],
   "source": [
    "random_elasticity(df, \"HDACCO\",\"FDESCO\", 90, rand_sample, σ, β, characteristics)\n",
    "random_elasticity(df, \"CRDYNA\",\"CRLANC\", 89, rand_sample, σ, β, characteristics)\n",
    "random_elasticity(df, \"CHSUMM\",\"CHTC\", 89, rand_sample, σ, β, characteristics);"
   ]
  },
  {
   "cell_type": "markdown",
   "metadata": {},
   "source": [
    "## Exercise 5.2 - Gandhi-Houde (DH) Instrumnets in Logit Model with Random Coefficients"
   ]
  },
  {
   "cell_type": "code",
   "execution_count": 26,
   "metadata": {},
   "outputs": [],
   "source": [
    "σ_0 = [1.0,1.0,1.0,1.0] # random coefficient initial guess\n",
    "result1 = optimize(sig -> obj(df,rand_sample,characteristics,GH_instruments,sig)[1], σ_0);"
   ]
  },
  {
   "cell_type": "code",
   "execution_count": 27,
   "metadata": {},
   "outputs": [
    {
     "name": "stdout",
     "output_type": "stream",
     "text": [
      "β: -7.392, -19.171, 2.951, 0.78, -0.237, -0.184\n",
      "σ: 12.044, -0.558, -0.687, 0.616\n"
     ]
    },
    {
     "ename": "UndefVarError",
     "evalue": "UndefVarError: varcov not defined",
     "output_type": "error",
     "traceback": [
      "UndefVarError: varcov not defined\n",
      "\n",
      "Stacktrace:\n",
      " [1] top-level scope\n",
      "   @ ~/Desktop/IO-Petrin/BLP_Exercises.ipynb:7"
     ]
    }
   ],
   "source": [
    "# β \n",
    "optimized_parameters = Optim.minimizer(result1)\n",
    "_,β,gmm_s = obj(df,rand_sample,characteristics,IV_list,optimized_parameters)\n",
    "println(\"β: \", join(round.(β, digits=3), \", \"))\n",
    "σ = optimized_parameters = Optim.minimizer(result1)\n",
    "println(\"σ: \", join(round.(σ, digits=3), \", \"))\n",
    "θ1_se, θ2_se = varcov(df,IV_list, σ, gmm_s)\n",
    "println(\"SE β: \", join(round.(θ1_se, digits=4), \", \"))\n",
    "println(\"SE σ: \", join(round.(θ2_se, digits=4), \", \"))"
   ]
  },
  {
   "cell_type": "code",
   "execution_count": 28,
   "metadata": {},
   "outputs": [
    {
     "name": "stdout",
     "output_type": "stream",
     "text": [
      "HDACCO Own elasticity: -1.697696219\n",
      "HDACCO FDESCO Cross elasticity: 0.017753898\n",
      "CRDYNA Own elasticity: -1.816037114\n",
      "CRDYNA CRLANC Cross elasticity: 0.008523808\n",
      "CHSUMM Own elasticity: -1.37618383\n",
      "CHSUMM CHTC Cross elasticity: 0.002309367\n"
     ]
    }
   ],
   "source": [
    "random_elasticity(df, \"HDACCO\",\"FDESCO\", 90, rand_sample, σ, β, characteristics)\n",
    "random_elasticity(df, \"CRDYNA\",\"CRLANC\", 89, rand_sample, σ, β, characteristics)\n",
    "random_elasticity(df, \"CHSUMM\",\"CHTC\", 89, rand_sample, σ, β, characteristics);"
   ]
  },
  {
   "cell_type": "markdown",
   "metadata": {},
   "source": [
    "## Exercise 6.1 - BLP Instruments with Another Random Coefficient - Income effects\n",
    "\n",
    "Write\n",
    "\n",
    "$$u_{ij} = \\alpha \\ln(y_i – p_j) + x_j \\beta_i + \\xi_j + \\epsilon_{ij}, \\forall j = 0, 1, \\cdots, J.$$\n",
    "\n",
    "Draw $y_i$ from a log-normal with a mean that varies by year for 1971-1990 given by (2.01156, 2.06526, 2.07843, 2.05775, 2.02915, 2.05346, 2.06745, 2.09805, 2.10404, 2.07208, 2.06019, 2.06561, 2.07672, 2.10437, 2.12608, 2.16426, 2.18071, 2.18856, 2.21250, 2.18377), and a fixed variance given by $\\sigma_y = 1.72$. \n",
    "\n",
    "What is the implied own-prince elaticity of the 1990 Honda Accord (HDACCO)? What is the implied cross-elasticity of the Honda Accord with respect to the 1990 Ford Escort (FDESCO)? Pick two addtional cars and report the same numbers. \n",
    "\n",
    "This part is unfinished, see Julia version for random coefficients. "
   ]
  },
  {
   "cell_type": "code",
   "execution_count": 29,
   "metadata": {},
   "outputs": [
    {
     "data": {
      "text/plain": [
       "income_obj (generic function with 1 method)"
      ]
     },
     "metadata": {},
     "output_type": "display_data"
    }
   ],
   "source": [
    "# Mean values for each year from 1971 to 1990\n",
    "function income_sample()\n",
    "    mean_values = [\n",
    "        2.01156, 2.06526, 2.07843, 2.05775, 2.02915, 2.05346, 2.06745, 2.09805, \n",
    "        2.10404, 2.07208, 2.06019, 2.06561, 2.07672, 2.10437, 2.12608, 2.16426, \n",
    "        2.18071, 2.18856, 2.21250, 2.18377\n",
    "    ]\n",
    "\n",
    "    # Fixed standard deviation (square root of variance)\n",
    "    sigma_y = sqrt(1.72)\n",
    "    years = 71:90  # Years from 1971 to 1990\n",
    "\n",
    "    # Dictionary to store the samples for each year\n",
    "    samples_by_year = Dict()\n",
    "\n",
    "    for (year, mean) in zip(years, mean_values)\n",
    "        # Drawing 100 samples from a log-normal distribution for each year\n",
    "        distribution = LogNormal(mean, sigma_y)\n",
    "        samples = rand(distribution, 100)\n",
    "        samples_by_year[year] = samples\n",
    "    end\n",
    "    return samples_by_year\n",
    "end\n",
    "\n",
    "# rewrite delta_full to include income effect\n",
    "# people_income =income_sample()\n",
    "function delta_full_income(df, rand_sample, characteristics, σ, people_income ; tol::Float64 = 1e-20)\n",
    "    markets = unique(df[:,:year])\n",
    "    results = OrderedDict()\n",
    "    err = OrderedDict()\n",
    "    @threads for j in markets\n",
    "        rand_sample[:, end] = 1/people_income[j]\n",
    "        chars = Matrix(df[df.year .== j, characteristics])\n",
    "        share = df[df.year .== j, :market_share]\n",
    "        δ_new = cdelta(chars, rand_sample, share, σ)\n",
    "        results[j] = δ_new\n",
    "\n",
    "        if any(isnan, δ_new)\n",
    "            err[j] = j\n",
    "        end\n",
    "    end\n",
    "    return vcat(values(results)...), err\n",
    "end\n",
    "\n",
    "function income_obj(df,rand_sample,characteristics,IV_list,σ,people_income)\n",
    "    δ = delta_full_income(df, rand_sample, characteristics, σ, people_income)[1]\n",
    "    z1 = Matrix(df[: , IV_list])\n",
    "    chars = characteristics\n",
    "    if !(:price in characteristics) \n",
    "        chars = [characteristics..., :price]\n",
    "    end\n",
    "    x = hcat(ones(size(df, 1)), Matrix(df[!, chars]))\n",
    "    z = [ones(size(df, 1)) z1] # IV matrix with constant term\n",
    "    w = inv(z' * z)\n",
    "    beta = (x'* z * w * z' * x)^-1  * (x'* z * w * z' * δ)\n",
    "    u = δ - x * beta\n",
    "    res = u' * z * w * z' * u\n",
    "    return (res, beta, u)\n",
    "end"
   ]
  },
  {
   "cell_type": "code",
   "execution_count": 30,
   "metadata": {},
   "outputs": [
    {
     "data": {
      "text/plain": [
       "varcov (generic function with 1 method)"
      ]
     },
     "metadata": {},
     "output_type": "display_data"
    }
   ],
   "source": [
    "# Estimate SE of parameters (mini van paper p17)\n",
    "# Petrin's code use small change to estimate Jacobian matrix d(g)/dθ_2 where g is GMM objective function g'g = u' * z * w * z' * u\n",
    "# I use same method to calculate Jacobian matrix dδ/dθ_2, they should be same theoretically\n",
    "function jacobian_matrix(df,σ)\n",
    "    # σ is the random coefficient estimated by dynamic programming\n",
    "    n = nrow(df)\n",
    "    kparm = size(σ,1)\n",
    "    dδ = zeros(n, kparm)\n",
    "    imat = I(kparm)\n",
    "    δ_0 = delta_full(df,rand_sample, characteristics, σ)[1]\n",
    "    epsilon = 1e-8\n",
    "\n",
    "    for i in 1:kparm\n",
    "        # finding derivative for parameter\n",
    "        dp = epsilon * abs(σ[i])\n",
    "        dp = max(epsilon, dp)\n",
    "        parm = σ + dp * imat[:, i]\n",
    "        δ = delta_full(df,rand_sample, characteristics, parm)[1]\n",
    "        dδ[:, i] = (δ - δ_0) / dp\n",
    "    end\n",
    "    return dδ\n",
    "end\n",
    "\n",
    "function varcov(df,IV_list, σ, gmm_s)\n",
    "    # σ is the random coefficient estimated by dynamic programming\n",
    "    # gmm_s is the GMM residual u = δ - x * beta\n",
    "    z1 = Matrix(df[: , IV_list])\n",
    "    chars = characteristics\n",
    "    if !(:price in characteristics) # if price doesn't have random coefficient, still need to add it into X\n",
    "        chars = [characteristics..., :price]\n",
    "    end    \n",
    "    x = hcat(ones(size(df, 1)), Matrix(df[!, chars])) # characteristics matrix\n",
    "    z = [ones(size(df, 1)) z1] # IV matrix\n",
    "    w = inv(z' * z)\n",
    "    temp = jacobian_matrix(df,σ)\n",
    "    a = hcat(x, temp)' * z\n",
    "    IVres = z .* (gmm_s * ones(1, size(z, 2)))\n",
    "    b = IVres' * IVres\n",
    "    inv_aAa = inv(a * w * a')\n",
    "    f = inv_aAa * (a * w * b * w * a')* inv_aAa \n",
    "    # same as f = gmm_s'*gmm_s/size(x,1)*inv(a*w*a') if W = inv(z'z) and homoskedastic\n",
    "    diagonal = diag(f)\n",
    "    θ1_se = diagonal[1:size(x,2)]\n",
    "    θ2_se = diagonal[size(x,2)+1:end]\n",
    "    return θ1_se, θ2_se\n",
    "end\n",
    "\n",
    "\n",
    "\n"
   ]
  },
  {
   "cell_type": "code",
   "execution_count": 31,
   "metadata": {},
   "outputs": [
    {
     "data": {
      "text/plain": [
       "Dict{Any, Any} with 20 entries:\n",
       "  78 => [42.5853, 12.6654, 23.9363, 8.12771, 4.49778, 7.49059, 66.1431, 238.546…\n",
       "  79 => [7.34236, 2.49757, 19.3833, 7.41136, 4.36736, 2.63066, 4.96517, 11.968,…\n",
       "  81 => [0.407758, 28.8697, 17.5023, 22.7314, 0.724975, 62.1736, 15.2102, 86.37…\n",
       "  72 => [8.22064, 16.6072, 0.783041, 7.24049, 4.31433, 0.567107, 43.9141, 10.31…\n",
       "  75 => [2.75934, 1.99328, 7.56706, 62.4355, 14.2879, 5.4496, 1.30103, 12.2221,…\n",
       "  83 => [8.98621, 30.0901, 105.018, 4.54441, 7.0594, 4.11634, 28.5386, 9.96706,…\n",
       "  73 => [81.8484, 10.4901, 24.4546, 5.78342, 21.4674, 6.52388, 18.302, 1.34654,…\n",
       "  82 => [0.576339, 32.0561, 1.03855, 2.15775, 4.90863, 17.3833, 44.6335, 44.587…\n",
       "  85 => [2.46732, 17.1592, 18.4833, 15.1701, 3.98941, 128.417, 2.75351, 6.46768…\n",
       "  74 => [19.8916, 1.77449, 10.497, 4.14141, 29.8833, 29.2845, 34.8155, 29.8697,…\n",
       "  89 => [23.0835, 6.34252, 3.44363, 10.922, 25.4347, 4.61556, 9.12199, 51.6719,…\n",
       "  80 => [5.8822, 16.9893, 1.49765, 8.99487, 1.45074, 9.11495, 42.6264, 47.1583,…\n",
       "  84 => [1.27424, 89.3576, 49.8794, 39.0214, 9.28649, 6.59107, 12.7953, 16.5971…\n",
       "  77 => [0.839545, 5.29422, 19.4476, 2.9903, 20.8218, 20.2941, 6.9021, 3.40567,…\n",
       "  71 => [5.38185, 0.74541, 14.1367, 107.14, 2.86346, 49.2233, 6.69504, 20.6478,…\n",
       "  90 => [5.01923, 3.30804, 5.30081, 96.389, 4.65849, 0.803081, 0.861161, 42.932…\n",
       "  76 => [6.03378, 40.4941, 18.3588, 9.72196, 63.7762, 13.1258, 2.60189, 1.67013…\n",
       "  86 => [59.4924, 22.3598, 5.03654, 1.73803, 17.3729, 40.3454, 11.2423, 8.75535…\n",
       "  88 => [1.05501, 12.2284, 10.3761, 8.07785, 1.63978, 11.1017, 46.5874, 1.75998…\n",
       "  87 => [16.0699, 19.1454, 6.46283, 43.9955, 24.5995, 1.85181, 2.94198, 16.4333…"
      ]
     },
     "metadata": {},
     "output_type": "display_data"
    }
   ],
   "source": [
    "people_income =income_sample()"
   ]
  },
  {
   "cell_type": "code",
   "execution_count": 32,
   "metadata": {},
   "outputs": [],
   "source": [
    "σ_0 = [1.0,1.0,1.0,1.0,5.0]\n",
    "characteristics = [:horsepower_weight, :length_width, :ac_standard, :miles_per_dollar]\n",
    "rand_sample= Matrix(gen_random(characteristics))\n",
    "push!(characteristics, :price)\n",
    "rand_sample = [rand_sample zeros(size(rand_sample, 1))]\n",
    "result = optimize(sig -> income_obj(df,rand_sample,characteristics,IV_list,sig,people_income)[1], σ_0);"
   ]
  },
  {
   "cell_type": "code",
   "execution_count": 33,
   "metadata": {},
   "outputs": [
    {
     "name": "stdout",
     "output_type": "stream",
     "text": [
      "β: -7.088, 0.154, -1.622, -0.134, 0.079, -0.557\n",
      "σ: 5.756, 4.043, 4.599, -0.418, 405.291\n",
      "SE β: 0.5002, 77.5705, 2.641, 6.7782, 0.0319, 0.0194\n",
      "SE σ: 36.4416, 1.8973, 8.9036, 0.1184, 13146.794\n"
     ]
    }
   ],
   "source": [
    "optimized_parameters = Optim.minimizer(result)\n",
    "_,β,gmm_s = income_obj(df,rand_sample,characteristics,IV_list,optimized_parameters,people_income)\n",
    "println(\"β: \", join(round.(β, digits=3), \", \"))\n",
    "σ = optimized_parameters = Optim.minimizer(result)\n",
    "println(\"σ: \", join(round.(σ, digits=3), \", \"))\n",
    "θ1_se, θ2_se = varcov(df,IV_list, σ, gmm_s)\n",
    "println(\"SE β: \", join(round.(θ1_se, digits=4), \", \"))\n",
    "println(\"SE σ: \", join(round.(θ2_se, digits=4), \", \"))"
   ]
  },
  {
   "cell_type": "code",
   "execution_count": 34,
   "metadata": {},
   "outputs": [
    {
     "name": "stdout",
     "output_type": "stream",
     "text": [
      "HDACCO Own elasticity: -5.129617319\n",
      "HDACCO FDESCO Cross elasticity: 0.081087211\n",
      "CRDYNA Own elasticity: -5.497245064\n",
      "CRDYNA CRLANC Cross elasticity: 0.021791285\n",
      "CHSUMM Own elasticity: -4.167381694\n",
      "CHSUMM CHTC Cross elasticity: 3.7592e-5\n"
     ]
    }
   ],
   "source": [
    "rand_sample[:, end] = 1/people_income[90]\n",
    "random_elasticity(df, \"HDACCO\",\"FDESCO\", 90, rand_sample, σ, β, characteristics)\n",
    "rand_sample[:, end] = 1/people_income[89]\n",
    "random_elasticity(df, \"CRDYNA\",\"CRLANC\", 89, rand_sample, σ, β, characteristics)\n",
    "random_elasticity(df, \"CHSUMM\",\"CHTC\", 89, rand_sample, σ, β, characteristics);"
   ]
  },
  {
   "cell_type": "markdown",
   "metadata": {},
   "source": [
    "## Exercise 6.2 - GH Instruments with Another Random Coefficient - Income effects"
   ]
  },
  {
   "cell_type": "code",
   "execution_count": 35,
   "metadata": {},
   "outputs": [
    {
     "data": {
      "text/plain": [
       "Dict{Any, Any} with 20 entries:\n",
       "  78 => [1.0846, 12.675, 58.8975, 19.5848, 9.4326, 1.42051, 19.1979, 42.4415, 6…\n",
       "  79 => [2.25997, 7.85469, 5.86357, 2.17081, 74.8647, 72.7033, 2.02702, 20.1384…\n",
       "  81 => [6.85626, 7.17855, 7.91857, 1.14936, 1.01764, 3.82252, 25.6168, 4.86221…\n",
       "  72 => [3.5571, 9.91109, 6.56954, 8.44957, 3.67692, 2.1771, 248.496, 2.08976, …\n",
       "  75 => [8.00995, 13.8531, 8.818, 11.1757, 5.24543, 1.95792, 3.25159, 1.33702, …\n",
       "  83 => [18.4723, 3.44382, 9.85863, 5.6754, 52.154, 1.65323, 9.68304, 10.514, 9…\n",
       "  73 => [3.77468, 1.16999, 5.84494, 1.91996, 5.28611, 29.6764, 44.6928, 8.95743…\n",
       "  82 => [1.71069, 10.2709, 1.9231, 15.7714, 8.52535, 6.45478, 231.969, 17.6084,…\n",
       "  85 => [17.3323, 0.780785, 16.5509, 20.2016, 1.19888, 1.46592, 301.95, 8.76774…\n",
       "  74 => [1.82492, 25.7572, 6.87549, 2.94067, 3.12633, 69.5877, 6.14096, 35.7675…\n",
       "  89 => [11.8361, 13.1859, 7.59315, 5.27697, 1.94431, 30.7185, 3.47646, 9.94662…\n",
       "  80 => [5.0985, 16.678, 12.7955, 30.1104, 16.5548, 9.99851, 4.12778, 1.85066, …\n",
       "  84 => [3.72016, 15.5926, 2.11039, 11.4326, 21.7317, 15.7232, 6.07945, 5.6182,…\n",
       "  77 => [4.03743, 1.3767, 6.37565, 21.0623, 7.76711, 22.4247, 4.28727, 3.71713,…\n",
       "  71 => [2.0825, 412.285, 5.73095, 7.96104, 19.1171, 3.94859, 41.1067, 1.76209,…\n",
       "  90 => [18.5685, 11.3945, 2.72465, 4.03163, 27.6123, 5.37867, 5.92283, 40.5938…\n",
       "  76 => [2.81675, 1.00812, 6.03388, 3.87753, 11.7051, 10.8936, 12.3355, 1.18282…\n",
       "  86 => [8.73018, 7.19749, 4.55779, 17.2749, 10.8082, 30.9156, 10.6525, 11.3959…\n",
       "  88 => [3.66623, 25.095, 8.03326, 7.17876, 15.9118, 39.0515, 12.135, 16.3671, …\n",
       "  87 => [7.55934, 18.5301, 32.8608, 15.1164, 7.95335, 2.40457, 11.604, 25.5638,…"
      ]
     },
     "metadata": {},
     "output_type": "display_data"
    }
   ],
   "source": [
    "people_income =income_sample()"
   ]
  },
  {
   "cell_type": "code",
   "execution_count": 36,
   "metadata": {},
   "outputs": [
    {
     "ename": "TaskFailedException",
     "evalue": "TaskFailedException\n\n    nested task error: InterruptException:\n    Stacktrace:\n      [1] Array\n        @ ./boot.jl:459 [inlined]\n      [2] Array\n        @ ./boot.jl:468 [inlined]\n      [3] Array\n        @ ./boot.jl:476 [inlined]\n      [4] similar\n        @ ./abstractarray.jl:841 [inlined]\n      [5] similar\n        @ ./abstractarray.jl:840 [inlined]\n      [6] similar\n        @ ./broadcast.jl:212 [inlined]\n      [7] similar\n        @ ./broadcast.jl:211 [inlined]\n      [8] copy\n        @ ./broadcast.jl:885 [inlined]\n      [9] materialize\n        @ ./broadcast.jl:860 [inlined]\n     [10] broadcast_preserving_zero_d\n        @ ./broadcast.jl:849 [inlined]\n     [11] *(A::Float64, B::Vector{Float64})\n        @ Base ./arraymath.jl:21\n     [12] eshare(char_matrix::Matrix{Float64}, δ::Vector{Float64}, rand_sample::Matrix{Float64}, σ::Vector{Float64})\n        @ Main ~/Desktop/IO-Petrin/BLP_Exercises.ipynb:35\n     [13] cdelta(char_matrix::Matrix{Float64}, rand_sample::Matrix{Float64}, share::Vector{Float64}, σ::Vector{Float64}; tol::Float64)\n        @ Main ~/Desktop/IO-Petrin/BLP_Exercises.ipynb:49\n     [14] cdelta(char_matrix::Matrix{Float64}, rand_sample::Matrix{Float64}, share::Vector{Float64}, σ::Vector{Float64})\n        @ Main ~/Desktop/IO-Petrin/BLP_Exercises.ipynb:41\n     [15] macro expansion\n        @ ~/Desktop/IO-Petrin/BLP_Exercises.ipynb:35 [inlined]\n     [16] (::var\"#115#threadsfor_fun#47\"{var\"#115#threadsfor_fun#46#48\"{DataFrame, Matrix{Float64}, Vector{Symbol}, Vector{Float64}, Dict{Any, Any}, OrderedDict{Any, Any}, OrderedDict{Any, Any}, Vector{Int64}}})(tid::Int64; onethread::Bool)\n        @ Main ./threadingconstructs.jl:84\n     [17] #115#threadsfor_fun\n        @ ./threadingconstructs.jl:51 [inlined]\n     [18] (::Base.Threads.var\"#1#2\"{var\"#115#threadsfor_fun#47\"{var\"#115#threadsfor_fun#46#48\"{DataFrame, Matrix{Float64}, Vector{Symbol}, Vector{Float64}, Dict{Any, Any}, OrderedDict{Any, Any}, OrderedDict{Any, Any}, Vector{Int64}}}, Int64})()\n        @ Base.Threads ./threadingconstructs.jl:30",
     "output_type": "error",
     "traceback": [
      "TaskFailedException\n",
      "\n",
      "    nested task error: InterruptException:\n",
      "    Stacktrace:\n",
      "      [1] Array\n",
      "        @ ./boot.jl:459 [inlined]\n",
      "      [2] Array\n",
      "        @ ./boot.jl:468 [inlined]\n",
      "      [3] Array\n",
      "        @ ./boot.jl:476 [inlined]\n",
      "      [4] similar\n",
      "        @ ./abstractarray.jl:841 [inlined]\n",
      "      [5] similar\n",
      "        @ ./abstractarray.jl:840 [inlined]\n",
      "      [6] similar\n",
      "        @ ./broadcast.jl:212 [inlined]\n",
      "      [7] similar\n",
      "        @ ./broadcast.jl:211 [inlined]\n",
      "      [8] copy\n",
      "        @ ./broadcast.jl:885 [inlined]\n",
      "      [9] materialize\n",
      "        @ ./broadcast.jl:860 [inlined]\n",
      "     [10] broadcast_preserving_zero_d\n",
      "        @ ./broadcast.jl:849 [inlined]\n",
      "     [11] *(A::Float64, B::Vector{Float64})\n",
      "        @ Base ./arraymath.jl:21\n",
      "     [12] eshare(char_matrix::Matrix{Float64}, δ::Vector{Float64}, rand_sample::Matrix{Float64}, σ::Vector{Float64})\n",
      "        @ Main ~/Desktop/IO-Petrin/BLP_Exercises.ipynb:35\n",
      "     [13] cdelta(char_matrix::Matrix{Float64}, rand_sample::Matrix{Float64}, share::Vector{Float64}, σ::Vector{Float64}; tol::Float64)\n",
      "        @ Main ~/Desktop/IO-Petrin/BLP_Exercises.ipynb:49\n",
      "     [14] cdelta(char_matrix::Matrix{Float64}, rand_sample::Matrix{Float64}, share::Vector{Float64}, σ::Vector{Float64})\n",
      "        @ Main ~/Desktop/IO-Petrin/BLP_Exercises.ipynb:41\n",
      "     [15] macro expansion\n",
      "        @ ~/Desktop/IO-Petrin/BLP_Exercises.ipynb:35 [inlined]\n",
      "     [16] (::var\"#115#threadsfor_fun#47\"{var\"#115#threadsfor_fun#46#48\"{DataFrame, Matrix{Float64}, Vector{Symbol}, Vector{Float64}, Dict{Any, Any}, OrderedDict{Any, Any}, OrderedDict{Any, Any}, Vector{Int64}}})(tid::Int64; onethread::Bool)\n",
      "        @ Main ./threadingconstructs.jl:84\n",
      "     [17] #115#threadsfor_fun\n",
      "        @ ./threadingconstructs.jl:51 [inlined]\n",
      "     [18] (::Base.Threads.var\"#1#2\"{var\"#115#threadsfor_fun#47\"{var\"#115#threadsfor_fun#46#48\"{DataFrame, Matrix{Float64}, Vector{Symbol}, Vector{Float64}, Dict{Any, Any}, OrderedDict{Any, Any}, OrderedDict{Any, Any}, Vector{Int64}}}, Int64})()\n",
      "        @ Base.Threads ./threadingconstructs.jl:30\n",
      "\n",
      "Stacktrace:\n",
      "  [1] wait\n",
      "    @ ./task.jl:345 [inlined]\n",
      "  [2] threading_run(fun::var\"#115#threadsfor_fun#47\"{var\"#115#threadsfor_fun#46#48\"{DataFrame, Matrix{Float64}, Vector{Symbol}, Vector{Float64}, Dict{Any, Any}, OrderedDict{Any, Any}, OrderedDict{Any, Any}, Vector{Int64}}}, static::Bool)\n",
      "    @ Base.Threads ./threadingconstructs.jl:38\n",
      "  [3] macro expansion\n",
      "    @ ./threadingconstructs.jl:89 [inlined]\n",
      "  [4] delta_full_income(df::DataFrame, rand_sample::Matrix{Float64}, characteristics::Vector{Symbol}, σ::Vector{Float64}, people_income::Dict{Any, Any}; tol::Float64)\n",
      "    @ Main ~/Desktop/IO-Petrin/BLP_Exercises.ipynb:31\n",
      "  [5] delta_full_income\n",
      "    @ ~/Desktop/IO-Petrin/BLP_Exercises.ipynb:27 [inlined]\n",
      "  [6] income_obj(df::DataFrame, rand_sample::Matrix{Float64}, characteristics::Vector{Symbol}, IV_list::Vector{Symbol}, σ::Vector{Float64}, people_income::Dict{Any, Any})\n",
      "    @ Main ~/Desktop/IO-Petrin/BLP_Exercises.ipynb:46\n",
      "  [7] (::var\"#51#52\")(sig::Vector{Float64})\n",
      "    @ Main ~/Desktop/IO-Petrin/BLP_Exercises.ipynb:6\n",
      "  [8] value(obj::NonDifferentiable{Float64, Vector{Float64}}, x::Vector{Float64})\n",
      "    @ NLSolversBase ~/.julia/packages/NLSolversBase/kavn7/src/interface.jl:19\n",
      "  [9] update_state!(f::NonDifferentiable{Float64, Vector{Float64}}, state::Optim.NelderMeadState{Vector{Float64}, Float64, Vector{Float64}}, method::NelderMead{Optim.AffineSimplexer, Optim.AdaptiveParameters})\n",
      "    @ Optim ~/.julia/packages/Optim/Adqv3/src/multivariate/solvers/zeroth_order/nelder_mead.jl:220\n",
      " [10] optimize(d::NonDifferentiable{Float64, Vector{Float64}}, initial_x::Vector{Float64}, method::NelderMead{Optim.AffineSimplexer, Optim.AdaptiveParameters}, options::Optim.Options{Float64, Nothing}, state::Optim.NelderMeadState{Vector{Float64}, Float64, Vector{Float64}})\n",
      "    @ Optim ~/.julia/packages/Optim/Adqv3/src/multivariate/optimize/optimize.jl:54\n",
      " [11] optimize(d::NonDifferentiable{Float64, Vector{Float64}}, initial_x::Vector{Float64}, method::NelderMead{Optim.AffineSimplexer, Optim.AdaptiveParameters}, options::Optim.Options{Float64, Nothing})\n",
      "    @ Optim ~/.julia/packages/Optim/Adqv3/src/multivariate/optimize/optimize.jl:36\n",
      " [12] optimize(f::Function, initial_x::Vector{Float64}; inplace::Bool, autodiff::Symbol, kwargs::Base.Pairs{Symbol, Union{}, Tuple{}, NamedTuple{(), Tuple{}}})\n",
      "    @ Optim ~/.julia/packages/Optim/Adqv3/src/multivariate/optimize/interface.jl:91\n",
      " [13] optimize(f::Function, initial_x::Vector{Float64})\n",
      "    @ Optim ~/.julia/packages/Optim/Adqv3/src/multivariate/optimize/interface.jl:83\n",
      " [14] top-level scope\n",
      "    @ ~/Desktop/IO-Petrin/BLP_Exercises.ipynb:6"
     ]
    }
   ],
   "source": [
    "σ_0 = [1.0,1.0,1.0,1.0,1.0]\n",
    "characteristics = [:horsepower_weight, :length_width, :ac_standard, :miles_per_dollar]\n",
    "rand_sample= Matrix(gen_random(characteristics))\n",
    "push!(characteristics, :price)\n",
    "rand_sample = [rand_sample zeros(size(rand_sample, 1))]\n",
    "result = optimize(sig -> income_obj(df,rand_sample,characteristics,GH_instruments,sig,people_income)[1], σ_0);"
   ]
  },
  {
   "cell_type": "code",
   "execution_count": 37,
   "metadata": {},
   "outputs": [
    {
     "name": "stdout",
     "output_type": "stream",
     "text": [
      "β: -8.101, -5.368, -1.502, -2.25, 0.567, -0.461\n",
      "σ: 5.756, 4.043, 4.599, -0.418, 405.291\n",
      "SE β: 2.6015, 25.2418, 22.8594, 185.0102, 0.3821, 0.0359\n",
      "SE σ: 8.0121, 11.4908, 157.5038, 1.0607, 8045.4211\n"
     ]
    }
   ],
   "source": [
    "optimized_parameters = Optim.minimizer(result)\n",
    "_,β,gmm_s = income_obj(df,rand_sample,characteristics,IV_list,optimized_parameters,people_income)\n",
    "println(\"β: \", join(round.(β, digits=3), \", \"))\n",
    "σ = optimized_parameters = Optim.minimizer(result)\n",
    "println(\"σ: \", join(round.(σ, digits=3), \", \"))\n",
    "θ1_se, θ2_se = varcov(df,IV_list, σ, gmm_s)\n",
    "println(\"SE β: \", join(round.(θ1_se, digits=4), \", \"))\n",
    "println(\"SE σ: \", join(round.(θ2_se, digits=4), \", \"))"
   ]
  },
  {
   "cell_type": "code",
   "execution_count": 38,
   "metadata": {},
   "outputs": [
    {
     "name": "stdout",
     "output_type": "stream",
     "text": [
      "HDACCO Own elasticity: -4.243999414\n",
      "HDACCO FDESCO Cross elasticity: 0.060064859\n",
      "CRDYNA Own elasticity: -4.54984679\n",
      "CRDYNA CRLANC Cross elasticity: 0.019116344\n",
      "CHSUMM Own elasticity: -3.452927426\n",
      "CHSUMM CHTC Cross elasticity: 0.000417852\n"
     ]
    }
   ],
   "source": [
    "rand_sample[:, end] = 1/people_income[90]\n",
    "random_elasticity(df, \"HDACCO\",\"FDESCO\", 90, rand_sample, σ, β, characteristics)\n",
    "rand_sample[:, end] = 1/people_income[89]\n",
    "random_elasticity(df, \"CRDYNA\",\"CRLANC\", 89, rand_sample, σ, β, characteristics)\n",
    "random_elasticity(df, \"CHSUMM\",\"CHTC\", 89, rand_sample, σ, β, characteristics);"
   ]
  },
  {
   "cell_type": "code",
   "execution_count": 39,
   "metadata": {},
   "outputs": [],
   "source": []
  },
  {
   "cell_type": "code",
   "execution_count": 40,
   "metadata": {},
   "outputs": [],
   "source": []
  },
  {
   "cell_type": "code",
   "execution_count": 41,
   "metadata": {},
   "outputs": [],
   "source": []
  },
  {
   "cell_type": "code",
   "execution_count": 42,
   "metadata": {},
   "outputs": [],
   "source": []
  },
  {
   "cell_type": "code",
   "execution_count": 43,
   "metadata": {},
   "outputs": [],
   "source": []
  },
  {
   "cell_type": "code",
   "execution_count": 44,
   "metadata": {},
   "outputs": [],
   "source": []
  },
  {
   "cell_type": "code",
   "execution_count": 45,
   "metadata": {},
   "outputs": [],
   "source": []
  },
  {
   "cell_type": "code",
   "execution_count": 46,
   "metadata": {},
   "outputs": [],
   "source": []
  },
  {
   "cell_type": "code",
   "execution_count": 47,
   "metadata": {},
   "outputs": [],
   "source": []
  },
  {
   "cell_type": "code",
   "execution_count": 48,
   "metadata": {},
   "outputs": [],
   "source": []
  },
  {
   "cell_type": "code",
   "execution_count": 49,
   "metadata": {},
   "outputs": [],
   "source": []
  },
  {
   "cell_type": "code",
   "execution_count": 50,
   "metadata": {},
   "outputs": [],
   "source": []
  },
  {
   "cell_type": "code",
   "execution_count": 51,
   "metadata": {},
   "outputs": [],
   "source": []
  },
  {
   "cell_type": "code",
   "execution_count": 52,
   "metadata": {},
   "outputs": [],
   "source": []
  },
  {
   "cell_type": "code",
   "execution_count": 53,
   "metadata": {},
   "outputs": [],
   "source": []
  },
  {
   "cell_type": "code",
   "execution_count": 54,
   "metadata": {},
   "outputs": [],
   "source": []
  },
  {
   "cell_type": "code",
   "execution_count": 55,
   "metadata": {},
   "outputs": [],
   "source": []
  },
  {
   "cell_type": "code",
   "execution_count": 56,
   "metadata": {},
   "outputs": [],
   "source": []
  },
  {
   "cell_type": "code",
   "execution_count": 57,
   "metadata": {},
   "outputs": [],
   "source": []
  },
  {
   "cell_type": "code",
   "execution_count": 58,
   "metadata": {},
   "outputs": [],
   "source": []
  }
 ],
 "metadata": {
  "kernelspec": {
   "display_name": "Julia 1.8.5",
   "language": "julia",
   "name": "julia-1.8"
  },
  "language_info": {
   "file_extension": ".jl",
   "mimetype": "application/julia",
   "name": "julia",
   "version": "1.8.5"
  }
 },
 "nbformat": 4,
 "nbformat_minor": 2
}
